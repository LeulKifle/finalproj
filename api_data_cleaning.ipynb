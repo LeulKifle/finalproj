{
 "cells": [
  {
   "cell_type": "code",
   "execution_count": 19,
   "metadata": {},
   "outputs": [],
   "source": [
    "from alpha_vantage.timeseries import TimeSeries as ts\n",
    "\n",
    "API_key = \"VME1I4Y6TS9N7DLJ\"\n",
    "ts = ts(key = API_key, output_format = 'pandas')\n",
    "data, meta_data = ts.get_daily(symbol = 'IBM')\n"
   ]
  },
  {
   "cell_type": "code",
   "execution_count": 20,
   "metadata": {},
   "outputs": [],
   "source": [
    "import pandas as pd"
   ]
  },
  {
   "cell_type": "code",
   "execution_count": 21,
   "metadata": {},
   "outputs": [
    {
     "data": {
      "text/html": [
       "<div>\n",
       "<style scoped>\n",
       "    .dataframe tbody tr th:only-of-type {\n",
       "        vertical-align: middle;\n",
       "    }\n",
       "\n",
       "    .dataframe tbody tr th {\n",
       "        vertical-align: top;\n",
       "    }\n",
       "\n",
       "    .dataframe thead th {\n",
       "        text-align: right;\n",
       "    }\n",
       "</style>\n",
       "<table border=\"1\" class=\"dataframe\">\n",
       "  <thead>\n",
       "    <tr style=\"text-align: right;\">\n",
       "      <th></th>\n",
       "      <th>1. open</th>\n",
       "      <th>2. high</th>\n",
       "      <th>3. low</th>\n",
       "      <th>4. close</th>\n",
       "      <th>5. volume</th>\n",
       "    </tr>\n",
       "    <tr>\n",
       "      <th>date</th>\n",
       "      <th></th>\n",
       "      <th></th>\n",
       "      <th></th>\n",
       "      <th></th>\n",
       "      <th></th>\n",
       "    </tr>\n",
       "  </thead>\n",
       "  <tbody>\n",
       "    <tr>\n",
       "      <th>2023-09-26</th>\n",
       "      <td>145.51</td>\n",
       "      <td>146.1700</td>\n",
       "      <td>143.0201</td>\n",
       "      <td>143.24</td>\n",
       "      <td>4824654.0</td>\n",
       "    </tr>\n",
       "    <tr>\n",
       "      <th>2023-09-25</th>\n",
       "      <td>146.57</td>\n",
       "      <td>147.4300</td>\n",
       "      <td>146.2500</td>\n",
       "      <td>146.48</td>\n",
       "      <td>2694245.0</td>\n",
       "    </tr>\n",
       "    <tr>\n",
       "      <th>2023-09-22</th>\n",
       "      <td>147.41</td>\n",
       "      <td>148.1000</td>\n",
       "      <td>146.8200</td>\n",
       "      <td>146.91</td>\n",
       "      <td>2562216.0</td>\n",
       "    </tr>\n",
       "    <tr>\n",
       "      <th>2023-09-21</th>\n",
       "      <td>149.00</td>\n",
       "      <td>149.2500</td>\n",
       "      <td>147.3100</td>\n",
       "      <td>147.38</td>\n",
       "      <td>4944786.0</td>\n",
       "    </tr>\n",
       "    <tr>\n",
       "      <th>2023-09-20</th>\n",
       "      <td>148.36</td>\n",
       "      <td>151.9299</td>\n",
       "      <td>148.1300</td>\n",
       "      <td>149.83</td>\n",
       "      <td>9636681.0</td>\n",
       "    </tr>\n",
       "  </tbody>\n",
       "</table>\n",
       "</div>"
      ],
      "text/plain": [
       "            1. open   2. high    3. low  4. close  5. volume\n",
       "date                                                        \n",
       "2023-09-26   145.51  146.1700  143.0201    143.24  4824654.0\n",
       "2023-09-25   146.57  147.4300  146.2500    146.48  2694245.0\n",
       "2023-09-22   147.41  148.1000  146.8200    146.91  2562216.0\n",
       "2023-09-21   149.00  149.2500  147.3100    147.38  4944786.0\n",
       "2023-09-20   148.36  151.9299  148.1300    149.83  9636681.0"
      ]
     },
     "execution_count": 21,
     "metadata": {},
     "output_type": "execute_result"
    }
   ],
   "source": [
    "apple_stock = data\n",
    "apple_stock.head()\n"
   ]
  },
  {
   "cell_type": "code",
   "execution_count": 23,
   "metadata": {},
   "outputs": [],
   "source": [
    "# Convert 'date' column to datetime\n",
    "#apple_stock = apple_stock.reset_index()   #run this once  \n",
    "apple_stock['date'] = pd.to_datetime(apple_stock['date'])\n"
   ]
  },
  {
   "cell_type": "code",
   "execution_count": 24,
   "metadata": {},
   "outputs": [],
   "source": [
    "# Rename columns and convert data types if necessary\n",
    "apple_stock.rename(columns={\n",
    "    '1. open': 'Open',\n",
    "    '2. high': 'High',\n",
    "    '3. low': 'Low',\n",
    "    '4. close': 'Close',\n",
    "    '5. volume': 'Volume',\n",
    "    'date': 'Date'\n",
    "}, inplace=True)"
   ]
  },
  {
   "cell_type": "code",
   "execution_count": 27,
   "metadata": {},
   "outputs": [],
   "source": [
    "# Convert numerical columns to numeric types\n",
    "numeric_cols = ['Open', 'High', 'Low', 'Close','Volume']\n",
    "apple_stock[numeric_cols] = apple_stock[numeric_cols].apply(pd.to_numeric)\n",
    "\n",
    "#apple_stock = apple_stock.drop(columns=['level_0', 'index'])    use this comment if you get an error in this cell"
   ]
  },
  {
   "cell_type": "code",
   "execution_count": 28,
   "metadata": {},
   "outputs": [
    {
     "data": {
      "text/html": [
       "<div>\n",
       "<style scoped>\n",
       "    .dataframe tbody tr th:only-of-type {\n",
       "        vertical-align: middle;\n",
       "    }\n",
       "\n",
       "    .dataframe tbody tr th {\n",
       "        vertical-align: top;\n",
       "    }\n",
       "\n",
       "    .dataframe thead th {\n",
       "        text-align: right;\n",
       "    }\n",
       "</style>\n",
       "<table border=\"1\" class=\"dataframe\">\n",
       "  <thead>\n",
       "    <tr style=\"text-align: right;\">\n",
       "      <th></th>\n",
       "      <th>Date</th>\n",
       "      <th>Open</th>\n",
       "      <th>High</th>\n",
       "      <th>Low</th>\n",
       "      <th>Close</th>\n",
       "      <th>Volume</th>\n",
       "    </tr>\n",
       "  </thead>\n",
       "  <tbody>\n",
       "    <tr>\n",
       "      <th>0</th>\n",
       "      <td>2023-09-26</td>\n",
       "      <td>145.51</td>\n",
       "      <td>146.1700</td>\n",
       "      <td>143.0201</td>\n",
       "      <td>143.24</td>\n",
       "      <td>4824654.0</td>\n",
       "    </tr>\n",
       "    <tr>\n",
       "      <th>1</th>\n",
       "      <td>2023-09-25</td>\n",
       "      <td>146.57</td>\n",
       "      <td>147.4300</td>\n",
       "      <td>146.2500</td>\n",
       "      <td>146.48</td>\n",
       "      <td>2694245.0</td>\n",
       "    </tr>\n",
       "    <tr>\n",
       "      <th>2</th>\n",
       "      <td>2023-09-22</td>\n",
       "      <td>147.41</td>\n",
       "      <td>148.1000</td>\n",
       "      <td>146.8200</td>\n",
       "      <td>146.91</td>\n",
       "      <td>2562216.0</td>\n",
       "    </tr>\n",
       "    <tr>\n",
       "      <th>3</th>\n",
       "      <td>2023-09-21</td>\n",
       "      <td>149.00</td>\n",
       "      <td>149.2500</td>\n",
       "      <td>147.3100</td>\n",
       "      <td>147.38</td>\n",
       "      <td>4944786.0</td>\n",
       "    </tr>\n",
       "    <tr>\n",
       "      <th>4</th>\n",
       "      <td>2023-09-20</td>\n",
       "      <td>148.36</td>\n",
       "      <td>151.9299</td>\n",
       "      <td>148.1300</td>\n",
       "      <td>149.83</td>\n",
       "      <td>9636681.0</td>\n",
       "    </tr>\n",
       "  </tbody>\n",
       "</table>\n",
       "</div>"
      ],
      "text/plain": [
       "        Date    Open      High       Low   Close     Volume\n",
       "0 2023-09-26  145.51  146.1700  143.0201  143.24  4824654.0\n",
       "1 2023-09-25  146.57  147.4300  146.2500  146.48  2694245.0\n",
       "2 2023-09-22  147.41  148.1000  146.8200  146.91  2562216.0\n",
       "3 2023-09-21  149.00  149.2500  147.3100  147.38  4944786.0\n",
       "4 2023-09-20  148.36  151.9299  148.1300  149.83  9636681.0"
      ]
     },
     "execution_count": 28,
     "metadata": {},
     "output_type": "execute_result"
    }
   ],
   "source": [
    "apple_stock.head()"
   ]
  }
 ],
 "metadata": {
  "kernelspec": {
   "display_name": "base",
   "language": "python",
   "name": "python3"
  },
  "language_info": {
   "codemirror_mode": {
    "name": "ipython",
    "version": 3
   },
   "file_extension": ".py",
   "mimetype": "text/x-python",
   "name": "python",
   "nbconvert_exporter": "python",
   "pygments_lexer": "ipython3",
   "version": "3.9.13"
  },
  "orig_nbformat": 4
 },
 "nbformat": 4,
 "nbformat_minor": 2
}
