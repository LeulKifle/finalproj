{
 "cells": [
  {
   "cell_type": "markdown",
   "id": "763b0417-aa11-4230-8ad1-b5141a0b225a",
   "metadata": {},
   "source": [
    "#### Saving API key in external file"
   ]
  },
  {
   "cell_type": "markdown",
   "id": "583b938b-c857-429c-9407-83b620b183ba",
   "metadata": {},
   "source": [
    "In put your key inside of `api.txt`\n",
    "\n",
    "Put your key inside and run chunk below"
   ]
  },
  {
   "cell_type": "code",
   "execution_count": 1,
   "id": "de43f9d9-adcc-4d21-8124-048325057698",
   "metadata": {
    "tags": []
   },
   "outputs": [
    {
     "name": "stdout",
     "output_type": "stream",
     "text": [
      "SUCCESS! Your API key is: CW8CB4LLEJM774XD\n"
     ]
    }
   ],
   "source": [
    "import requests\n",
    "import json\n",
    "\n",
    "api_key = open(\"api.txt\", \"r\").read()\n",
    "\n",
    "print(f\"SUCCESS! Your API key is: {api_key}\")"
   ]
  },
  {
   "cell_type": "markdown",
   "id": "2b4dff66-69f1-4449-9d50-dda3dd9da212",
   "metadata": {},
   "source": [
    "#### Making an API request"
   ]
  },
  {
   "cell_type": "code",
   "execution_count": 2,
   "id": "04cb36ae-b092-418d-865a-217b3d7c5635",
   "metadata": {
    "tags": []
   },
   "outputs": [
    {
     "name": "stdin",
     "output_type": "stream",
     "text": [
      "What stock do you want to see (ensure it is in ticker format): IBM\n"
     ]
    }
   ],
   "source": [
    "ticker_nm = input(\"What stock do you want to see (ensure it is in ticker format):\")"
   ]
  },
  {
   "cell_type": "code",
   "execution_count": 3,
   "id": "97345d23-2ee0-47c0-baba-17f960a8bc33",
   "metadata": {
    "tags": []
   },
   "outputs": [
    {
     "name": "stdin",
     "output_type": "stream",
     "text": [
      "What duration do you want to select (daily, weekly, monthly)?: daily\n"
     ]
    }
   ],
   "source": [
    "duration = input(\"What duration do you want to select (daily, weekly, monthly)?:\")\n",
    "\n",
    "duration = duration.upper()"
   ]
  },
  {
   "cell_type": "code",
   "execution_count": 4,
   "id": "19a6984e-4374-4d60-88b0-62c91d44b251",
   "metadata": {
    "tags": []
   },
   "outputs": [
    {
     "name": "stdout",
     "output_type": "stream",
     "text": [
      "Successfully downloaded data!\n"
     ]
    }
   ],
   "source": [
    "data_req = requests.get(f\"https://www.alphavantage.co/query?function=TIME_SERIES_{duration}&symbol={ticker_nm}&apikey={api_key}\")\n",
    "\n",
    "time_series_data = data_req.json()\n",
    "\n",
    "print(\"Successfully downloaded data!\")"
   ]
  },
  {
   "cell_type": "markdown",
   "id": "c1254a79-587f-40f5-9c8c-039d0bc2b9a2",
   "metadata": {},
   "source": [
    "#### Cleaning Data and Formatting into CSV/Tabular format"
   ]
  },
  {
   "cell_type": "code",
   "execution_count": 10,
   "id": "8e81a4ba-8491-4e33-8bc5-7fc6d1d67158",
   "metadata": {
    "tags": []
   },
   "outputs": [],
   "source": [
    "date_data = None\n",
    "price_data = []\n",
    "\n",
    "if duration == \"DAILY\":\n",
    "    date_data = list(time_series_data[\"Time Series (Daily)\"].keys())\n",
    "    for date in date_data:\n",
    "        price_data.append(time_series_data[\"Time Series (Daily)\"][date])\n",
    "else:\n",
    "    date_data = list(time_series_data[f\"{duration.capitalize()} Time Series\"].keys())\n",
    "    for date in date_data:\n",
    "        price_data.append(time_series_data[f\"{duration.capitalize()} Time Series\"][date])"
   ]
  },
  {
   "cell_type": "code",
   "execution_count": 11,
   "id": "0e5350f6-4a25-479b-a8af-e27d8b800660",
   "metadata": {
    "tags": []
   },
   "outputs": [],
   "source": [
    "import pandas as pd\n",
    "\n",
    "price_data_tabular = pd.DataFrame(price_data)\n",
    "price_data_tabular[\"date\"] = date_data"
   ]
  },
  {
   "cell_type": "code",
   "execution_count": 12,
   "id": "e510fa64-bf04-47ab-a1c5-6c32696a3df2",
   "metadata": {
    "tags": []
   },
   "outputs": [
    {
     "data": {
      "text/html": [
       "<div>\n",
       "<style scoped>\n",
       "    .dataframe tbody tr th:only-of-type {\n",
       "        vertical-align: middle;\n",
       "    }\n",
       "\n",
       "    .dataframe tbody tr th {\n",
       "        vertical-align: top;\n",
       "    }\n",
       "\n",
       "    .dataframe thead th {\n",
       "        text-align: right;\n",
       "    }\n",
       "</style>\n",
       "<table border=\"1\" class=\"dataframe\">\n",
       "  <thead>\n",
       "    <tr style=\"text-align: right;\">\n",
       "      <th></th>\n",
       "      <th>1. open</th>\n",
       "      <th>2. high</th>\n",
       "      <th>3. low</th>\n",
       "      <th>4. close</th>\n",
       "      <th>5. volume</th>\n",
       "      <th>date</th>\n",
       "    </tr>\n",
       "  </thead>\n",
       "  <tbody>\n",
       "    <tr>\n",
       "      <th>0</th>\n",
       "      <td>145.5800</td>\n",
       "      <td>146.1700</td>\n",
       "      <td>143.0201</td>\n",
       "      <td>143.2400</td>\n",
       "      <td>4823210</td>\n",
       "      <td>2023-09-26</td>\n",
       "    </tr>\n",
       "    <tr>\n",
       "      <th>1</th>\n",
       "      <td>146.5700</td>\n",
       "      <td>147.4300</td>\n",
       "      <td>146.2500</td>\n",
       "      <td>146.4800</td>\n",
       "      <td>2694245</td>\n",
       "      <td>2023-09-25</td>\n",
       "    </tr>\n",
       "    <tr>\n",
       "      <th>2</th>\n",
       "      <td>147.4100</td>\n",
       "      <td>148.1000</td>\n",
       "      <td>146.8200</td>\n",
       "      <td>146.9100</td>\n",
       "      <td>2562216</td>\n",
       "      <td>2023-09-22</td>\n",
       "    </tr>\n",
       "    <tr>\n",
       "      <th>3</th>\n",
       "      <td>149.0000</td>\n",
       "      <td>149.2500</td>\n",
       "      <td>147.3100</td>\n",
       "      <td>147.3800</td>\n",
       "      <td>4944786</td>\n",
       "      <td>2023-09-21</td>\n",
       "    </tr>\n",
       "    <tr>\n",
       "      <th>4</th>\n",
       "      <td>148.3600</td>\n",
       "      <td>151.9299</td>\n",
       "      <td>148.1300</td>\n",
       "      <td>149.8300</td>\n",
       "      <td>9636681</td>\n",
       "      <td>2023-09-20</td>\n",
       "    </tr>\n",
       "  </tbody>\n",
       "</table>\n",
       "</div>"
      ],
      "text/plain": [
       "    1. open   2. high    3. low  4. close 5. volume        date\n",
       "0  145.5800  146.1700  143.0201  143.2400   4823210  2023-09-26\n",
       "1  146.5700  147.4300  146.2500  146.4800   2694245  2023-09-25\n",
       "2  147.4100  148.1000  146.8200  146.9100   2562216  2023-09-22\n",
       "3  149.0000  149.2500  147.3100  147.3800   4944786  2023-09-21\n",
       "4  148.3600  151.9299  148.1300  149.8300   9636681  2023-09-20"
      ]
     },
     "execution_count": 12,
     "metadata": {},
     "output_type": "execute_result"
    }
   ],
   "source": [
    "price_data_tabular.head()"
   ]
  },
  {
   "cell_type": "markdown",
   "id": "0f43db0e-81df-43a2-9706-d337858af933",
   "metadata": {},
   "source": [
    "#### Data to CSV"
   ]
  },
  {
   "cell_type": "code",
   "execution_count": 12,
   "id": "da9c2dca-396e-40cd-b9bc-9ffeda0da9cb",
   "metadata": {
    "tags": []
   },
   "outputs": [
    {
     "name": "stdin",
     "output_type": "stream",
     "text": [
      "What do you want to be your CSV file name?: apple_ts_data\n"
     ]
    },
    {
     "name": "stdout",
     "output_type": "stream",
     "text": [
      "DataFrame has been saved to: \n"
     ]
    }
   ],
   "source": [
    "csv_file_name = f\"{input('What do you want to be your CSV file name?:')}.csv\"\n",
    "\n",
    "price_data_tabular.to_csv(csv_file_name, index=False)\n",
    "\n",
    "print(f\"DataFrame has been saved to: \")"
   ]
  }
 ],
 "metadata": {
  "kernelspec": {
   "display_name": "ipykernel",
   "language": "python",
   "name": "ipykernel"
  },
  "language_info": {
   "codemirror_mode": {
    "name": "ipython",
    "version": 3
   },
   "file_extension": ".py",
   "mimetype": "text/x-python",
   "name": "python",
   "nbconvert_exporter": "python",
   "pygments_lexer": "ipython3",
   "version": "3.10.9"
  }
 },
 "nbformat": 4,
 "nbformat_minor": 5
}
