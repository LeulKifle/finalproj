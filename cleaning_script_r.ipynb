{
 "cells": [
  {
   "cell_type": "code",
   "execution_count": 1,
   "id": "1d633e7f-804f-4717-927a-b2924fe1bef8",
   "metadata": {
    "tags": []
   },
   "outputs": [
    {
     "ename": "NameError",
     "evalue": "name 'library' is not defined",
     "output_type": "error",
     "traceback": [
      "\u001b[1;31m---------------------------------------------------------------------------\u001b[0m",
      "\u001b[1;31mNameError\u001b[0m                                 Traceback (most recent call last)",
      "\u001b[1;32mc:\\Users\\babyl\\Desktop\\Mason classes\\Second year\\fall 2023\\cds 303 mod 10_30 pm\\class project\\finalproj\\cleaning_script_r.ipynb Cell 1\u001b[0m line \u001b[0;36m1\n\u001b[1;32m----> <a href='vscode-notebook-cell:/c%3A/Users/babyl/Desktop/Mason%20classes/Second%20year/fall%202023/cds%20303%20mod%2010_30%20pm/class%20project/finalproj/cleaning_script_r.ipynb#W0sZmlsZQ%3D%3D?line=0'>1</a>\u001b[0m library(ggplot2)\n\u001b[0;32m      <a href='vscode-notebook-cell:/c%3A/Users/babyl/Desktop/Mason%20classes/Second%20year/fall%202023/cds%20303%20mod%2010_30%20pm/class%20project/finalproj/cleaning_script_r.ipynb#W0sZmlsZQ%3D%3D?line=1'>2</a>\u001b[0m library(dplyr)\n\u001b[0;32m      <a href='vscode-notebook-cell:/c%3A/Users/babyl/Desktop/Mason%20classes/Second%20year/fall%202023/cds%20303%20mod%2010_30%20pm/class%20project/finalproj/cleaning_script_r.ipynb#W0sZmlsZQ%3D%3D?line=3'>4</a>\u001b[0m csvname \u001b[39m=\u001b[39m readline(\u001b[39m\"\u001b[39m\u001b[39mWhat is your csv file called (Don\u001b[39m\u001b[39m'\u001b[39m\u001b[39mt include the .csv portion):\u001b[39m\u001b[39m\"\u001b[39m)\n",
      "\u001b[1;31mNameError\u001b[0m: name 'library' is not defined"
     ]
    }
   ],
   "source": [
    "library(ggplot2)\n",
    "library(dplyr)\n",
    "\n",
    "csvname = readline(\"What is your csv file called (Don't include the .csv portion):\")\n",
    "fullnamecsv = sprintf(\"%s.csv\", csvname)\n",
    "data <- read.csv(fullnamecsv)"
   ]
  },
  {
   "cell_type": "code",
   "execution_count": 10,
   "id": "00d01964-e85c-4ad5-96b2-bc22341b9acd",
   "metadata": {},
   "outputs": [],
   "source": [
    "colnames(data)[1:5] = c(\"open\", \"high\", \"low\", \"close\", \"volume\")\n",
    "data$date = as.Date(data$date)"
   ]
  },
  {
   "cell_type": "code",
   "execution_count": 11,
   "id": "1a08bdd7-9b73-4e6b-8c9e-5af4aec9d97a",
   "metadata": {},
   "outputs": [
    {
     "data": {
      "text/html": [
       "<table class=\"dataframe\">\n",
       "<caption>A data.frame: 6 × 6</caption>\n",
       "<thead>\n",
       "\t<tr><th></th><th scope=col>open</th><th scope=col>high</th><th scope=col>low</th><th scope=col>close</th><th scope=col>volume</th><th scope=col>date</th></tr>\n",
       "\t<tr><th></th><th scope=col>&lt;dbl&gt;</th><th scope=col>&lt;dbl&gt;</th><th scope=col>&lt;dbl&gt;</th><th scope=col>&lt;dbl&gt;</th><th scope=col>&lt;int&gt;</th><th scope=col>&lt;date&gt;</th></tr>\n",
       "</thead>\n",
       "<tbody>\n",
       "\t<tr><th scope=row>1</th><td>176.48</td><td>179.695</td><td>173.860</td><td>173.93</td><td>240669811</td><td>2023-09-21</td></tr>\n",
       "\t<tr><th scope=row>2</th><td>180.07</td><td>180.300</td><td>173.580</td><td>175.01</td><td>403746390</td><td>2023-09-15</td></tr>\n",
       "\t<tr><th scope=row>3</th><td>188.28</td><td>189.980</td><td>173.540</td><td>178.18</td><td>305126712</td><td>2023-09-08</td></tr>\n",
       "\t<tr><th scope=row>4</th><td>180.09</td><td>189.920</td><td>178.545</td><td>189.46</td><td>264199503</td><td>2023-09-01</td></tr>\n",
       "\t<tr><th scope=row>5</th><td>175.07</td><td>181.550</td><td>173.735</td><td>178.61</td><td>247514268</td><td>2023-08-25</td></tr>\n",
       "\t<tr><th scope=row>6</th><td>177.97</td><td>179.690</td><td>171.960</td><td>174.49</td><td>261498109</td><td>2023-08-18</td></tr>\n",
       "</tbody>\n",
       "</table>\n"
      ],
      "text/latex": [
       "A data.frame: 6 × 6\n",
       "\\begin{tabular}{r|llllll}\n",
       "  & open & high & low & close & volume & date\\\\\n",
       "  & <dbl> & <dbl> & <dbl> & <dbl> & <int> & <date>\\\\\n",
       "\\hline\n",
       "\t1 & 176.48 & 179.695 & 173.860 & 173.93 & 240669811 & 2023-09-21\\\\\n",
       "\t2 & 180.07 & 180.300 & 173.580 & 175.01 & 403746390 & 2023-09-15\\\\\n",
       "\t3 & 188.28 & 189.980 & 173.540 & 178.18 & 305126712 & 2023-09-08\\\\\n",
       "\t4 & 180.09 & 189.920 & 178.545 & 189.46 & 264199503 & 2023-09-01\\\\\n",
       "\t5 & 175.07 & 181.550 & 173.735 & 178.61 & 247514268 & 2023-08-25\\\\\n",
       "\t6 & 177.97 & 179.690 & 171.960 & 174.49 & 261498109 & 2023-08-18\\\\\n",
       "\\end{tabular}\n"
      ],
      "text/markdown": [
       "\n",
       "A data.frame: 6 × 6\n",
       "\n",
       "| <!--/--> | open &lt;dbl&gt; | high &lt;dbl&gt; | low &lt;dbl&gt; | close &lt;dbl&gt; | volume &lt;int&gt; | date &lt;date&gt; |\n",
       "|---|---|---|---|---|---|---|\n",
       "| 1 | 176.48 | 179.695 | 173.860 | 173.93 | 240669811 | 2023-09-21 |\n",
       "| 2 | 180.07 | 180.300 | 173.580 | 175.01 | 403746390 | 2023-09-15 |\n",
       "| 3 | 188.28 | 189.980 | 173.540 | 178.18 | 305126712 | 2023-09-08 |\n",
       "| 4 | 180.09 | 189.920 | 178.545 | 189.46 | 264199503 | 2023-09-01 |\n",
       "| 5 | 175.07 | 181.550 | 173.735 | 178.61 | 247514268 | 2023-08-25 |\n",
       "| 6 | 177.97 | 179.690 | 171.960 | 174.49 | 261498109 | 2023-08-18 |\n",
       "\n"
      ],
      "text/plain": [
       "  open   high    low     close  volume    date      \n",
       "1 176.48 179.695 173.860 173.93 240669811 2023-09-21\n",
       "2 180.07 180.300 173.580 175.01 403746390 2023-09-15\n",
       "3 188.28 189.980 173.540 178.18 305126712 2023-09-08\n",
       "4 180.09 189.920 178.545 189.46 264199503 2023-09-01\n",
       "5 175.07 181.550 173.735 178.61 247514268 2023-08-25\n",
       "6 177.97 179.690 171.960 174.49 261498109 2023-08-18"
      ]
     },
     "metadata": {},
     "output_type": "display_data"
    }
   ],
   "source": [
    "head(data)"
   ]
  }
 ],
 "metadata": {
  "kernelspec": {
   "display_name": "base",
   "language": "python",
   "name": "python3"
  },
  "language_info": {
   "codemirror_mode": {
    "name": "ipython",
    "version": 3
   },
   "file_extension": ".py",
   "mimetype": "text/x-python",
   "name": "python",
   "nbconvert_exporter": "python",
   "pygments_lexer": "ipython3",
   "version": "3.9.13"
  }
 },
 "nbformat": 4,
 "nbformat_minor": 5
}
